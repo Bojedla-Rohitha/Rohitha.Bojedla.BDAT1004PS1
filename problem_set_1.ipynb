{
 "cells": [
  {
   "cell_type": "markdown",
   "id": "8af12cf7-d790-4e4a-bcb3-2fb4b39a40cf",
   "metadata": {},
   "source": [
    "Question 1\n",
    "\n",
    "What data type is each of the following (evaluate where necessary)?"
   ]
  },
  {
   "cell_type": "markdown",
   "id": "1a4d22b8-5f93-4f70-9dc6-59af2bbcbe5a",
   "metadata": {},
   "source": [
    "5"
   ]
  },
  {
   "cell_type": "code",
   "execution_count": 2,
   "id": "65839cc2-9850-4062-874d-b2d73dba2843",
   "metadata": {},
   "outputs": [
    {
     "name": "stdout",
     "output_type": "stream",
     "text": [
      "<class 'int'>\n"
     ]
    }
   ],
   "source": [
    "x = 5;\n",
    "print(type(x))"
   ]
  },
  {
   "cell_type": "markdown",
   "id": "61513974-26af-42c6-b851-565e20c17cc7",
   "metadata": {},
   "source": [
    "5.0"
   ]
  },
  {
   "cell_type": "code",
   "execution_count": 3,
   "id": "bd68190f-e947-4980-87b2-b33d3d48272a",
   "metadata": {},
   "outputs": [
    {
     "name": "stdout",
     "output_type": "stream",
     "text": [
      "<class 'float'>\n"
     ]
    }
   ],
   "source": [
    "x = 5.0;\n",
    "print(type(x))"
   ]
  },
  {
   "cell_type": "markdown",
   "id": "8fe31045-b1bb-4d33-8546-4e1bbd202acc",
   "metadata": {},
   "source": [
    "5 > 1"
   ]
  },
  {
   "cell_type": "code",
   "execution_count": 1,
   "id": "e4f140e5-9b5d-4800-a9e3-00a5880166a1",
   "metadata": {},
   "outputs": [
    {
     "name": "stdout",
     "output_type": "stream",
     "text": [
      "<class 'bool'>\n"
     ]
    }
   ],
   "source": [
    "print(type(5>1))"
   ]
  },
  {
   "cell_type": "markdown",
   "id": "dce9c2f1-e718-4dcb-ba9e-2855a03b0c2c",
   "metadata": {},
   "source": [
    "'5'"
   ]
  },
  {
   "cell_type": "code",
   "execution_count": 5,
   "id": "ce58834f-d771-4683-942b-0bf79bb67605",
   "metadata": {},
   "outputs": [
    {
     "name": "stdout",
     "output_type": "stream",
     "text": [
      "<class 'str'>\n"
     ]
    }
   ],
   "source": [
    "x = '5'\n",
    "print(type(x))"
   ]
  },
  {
   "cell_type": "markdown",
   "id": "6fc83434-8d0c-45ec-8fd7-c4a30ee8e143",
   "metadata": {},
   "source": [
    "5 * 2"
   ]
  },
  {
   "cell_type": "code",
   "execution_count": 6,
   "id": "8580d08e-67a3-45da-8050-36071d292c68",
   "metadata": {},
   "outputs": [
    {
     "name": "stdout",
     "output_type": "stream",
     "text": [
      "<class 'int'>\n"
     ]
    }
   ],
   "source": [
    "x = (5*2)\n",
    "print(type(x))"
   ]
  },
  {
   "cell_type": "markdown",
   "id": "4de7386e-c5dc-49fe-bc91-71e3f67e7713",
   "metadata": {},
   "source": [
    "'5' + '2'"
   ]
  },
  {
   "cell_type": "code",
   "execution_count": 7,
   "id": "2e6cc760-921e-4546-a74a-e303e27aaf37",
   "metadata": {},
   "outputs": [
    {
     "name": "stdout",
     "output_type": "stream",
     "text": [
      "<class 'str'>\n"
     ]
    }
   ],
   "source": [
    "x = '5' + '2'\n",
    "print(type(x))"
   ]
  },
  {
   "cell_type": "markdown",
   "id": "a23c688c-828c-48e7-bb6d-33d56adac920",
   "metadata": {},
   "source": [
    "5 / 2"
   ]
  },
  {
   "cell_type": "code",
   "execution_count": 8,
   "id": "14d922c4-2f53-465b-a021-5f8e3ebce595",
   "metadata": {},
   "outputs": [
    {
     "name": "stdout",
     "output_type": "stream",
     "text": [
      "<class 'float'>\n"
     ]
    }
   ],
   "source": [
    "x = 5 / 2\n",
    "print(type(x))"
   ]
  },
  {
   "cell_type": "markdown",
   "id": "00326730-88cf-4f77-b6dc-7ab76bc85592",
   "metadata": {},
   "source": [
    "5 % 2"
   ]
  },
  {
   "cell_type": "code",
   "execution_count": 9,
   "id": "54087a01-5ed2-4d3f-9073-7fae9b31e516",
   "metadata": {},
   "outputs": [
    {
     "name": "stdout",
     "output_type": "stream",
     "text": [
      "<class 'int'>\n"
     ]
    }
   ],
   "source": [
    "x = 5 % 2\n",
    "print(type(x))"
   ]
  },
  {
   "cell_type": "markdown",
   "id": "e07fd1ab-937e-4d4b-bfa5-1c5674c049c6",
   "metadata": {},
   "source": [
    "{5, 2, 1}"
   ]
  },
  {
   "cell_type": "code",
   "execution_count": 10,
   "id": "2bd8848c-84b5-481a-8c33-78bac9b74043",
   "metadata": {},
   "outputs": [
    {
     "name": "stdout",
     "output_type": "stream",
     "text": [
      "<class 'set'>\n"
     ]
    }
   ],
   "source": [
    "x = {5, 2, 1}\n",
    "print(type(x))"
   ]
  },
  {
   "cell_type": "markdown",
   "id": "c4254866-6014-405b-91dc-d68026463ed2",
   "metadata": {},
   "source": [
    "5 == 3"
   ]
  },
  {
   "cell_type": "code",
   "execution_count": 11,
   "id": "647c9a92-4c5e-4ed8-a096-f4099b07ec5c",
   "metadata": {},
   "outputs": [
    {
     "name": "stdout",
     "output_type": "stream",
     "text": [
      "<class 'bool'>\n"
     ]
    }
   ],
   "source": [
    "print(type(5==3))"
   ]
  },
  {
   "cell_type": "markdown",
   "id": "272e69e2-2025-4537-b249-3b68363c6e3d",
   "metadata": {},
   "source": [
    "Pi"
   ]
  },
  {
   "cell_type": "code",
   "execution_count": 12,
   "id": "243390f3-122f-42f5-b612-37f961b4729d",
   "metadata": {},
   "outputs": [
    {
     "name": "stdout",
     "output_type": "stream",
     "text": [
      "<class 'float'>\n"
     ]
    }
   ],
   "source": [
    "import math\n",
    "print(type(math.pi))"
   ]
  },
  {
   "cell_type": "markdown",
   "id": "4f51d16c-05fb-4965-934f-b6b15d43e5cd",
   "metadata": {},
   "source": [
    "Question 2\n",
    "\n",
    "Write (and evaluate) python expressions that answer these questions:"
   ]
  },
  {
   "cell_type": "markdown",
   "id": "fe816a1b-3c8c-46f5-9dc0-c4e85688ef75",
   "metadata": {},
   "source": [
    "a. How many letters are there in 'Supercalifragilisticexpialidocious'?"
   ]
  },
  {
   "cell_type": "code",
   "execution_count": 1,
   "id": "f54aa8cf-cdf2-46df-939b-10e26a14b048",
   "metadata": {},
   "outputs": [
    {
     "name": "stdout",
     "output_type": "stream",
     "text": [
      "34\n"
     ]
    }
   ],
   "source": [
    "print(len(\"Supercalifragilisticexpialidocious\"))"
   ]
  },
  {
   "cell_type": "markdown",
   "id": "d9efd065-de38-4748-b19d-90ec4ae67a2a",
   "metadata": {},
   "source": [
    "b. Does 'Supercalifragilisticexpialidocious' contain 'ice' as a substring?"
   ]
  },
  {
   "cell_type": "code",
   "execution_count": 2,
   "id": "bf2e730d-07a0-42b7-bbc2-fa92bbee2d68",
   "metadata": {},
   "outputs": [
    {
     "name": "stdout",
     "output_type": "stream",
     "text": [
      "True\n"
     ]
    }
   ],
   "source": [
    "print('ice' in 'Supercalifragilisticexpialidocious' )"
   ]
  },
  {
   "cell_type": "markdown",
   "id": "8a22cfd2-e996-4eca-becc-9dfab3e82b83",
   "metadata": {},
   "source": [
    "c. Which of the following words is the longest:Supercalifragilisticexpialidocious, Honorificabilitudinitatibus, orBababadalgharaghtakamminarronnkonn?"
   ]
  },
  {
   "cell_type": "code",
   "execution_count": 5,
   "id": "4f060e41-fb44-4d70-838f-abff1bf54414",
   "metadata": {},
   "outputs": [
    {
     "name": "stdout",
     "output_type": "stream",
     "text": [
      "The longest word from the bunch is orBababadalgharaghtakamminarronnkonn\n"
     ]
    }
   ],
   "source": [
    "strings = [\"Supercalifragilisticexpialidocious\",\"Honorificabilitudinitatibus\",\"orBababadalgharaghtakamminarronnkonn\"]\n",
    "longest_word = \"\"\n",
    "for x in strings:\n",
    "    if(len(x)>len(longest_word)):\n",
    "        longest_word = x\n",
    "print(\"The longest word from the bunch is \" + longest_word)"
   ]
  },
  {
   "cell_type": "markdown",
   "id": "3328c522-3389-45d9-a254-266f9a2e3471",
   "metadata": {},
   "source": [
    "d. Which composer comes first in the dictionary: 'Berlioz', 'Borodin', 'Brian','Bartok', 'Bellini', 'Buxtehude', 'Bernstein'. Which one comes last?"
   ]
  },
  {
   "cell_type": "code",
   "execution_count": 4,
   "id": "f69f171e-9e33-48ee-9e00-8efb1de12ae2",
   "metadata": {},
   "outputs": [
    {
     "name": "stdout",
     "output_type": "stream",
     "text": [
      "['Bartok', 'Bellini', 'Berlioz', 'Bernstein', 'Borodin', 'Brian', 'Buxtehude']\n"
     ]
    }
   ],
   "source": [
    "strings = ['Berlioz', 'Borodin', 'Brian','Bartok', 'Bellini', 'Buxtehude', 'Bernstein']\n",
    "strings = sorted(strings)\n",
    "print(strings)"
   ]
  },
  {
   "cell_type": "markdown",
   "id": "52050b30-394d-4089-9b6c-7ccd1cfd1223",
   "metadata": {},
   "source": [
    "Question 3\n",
    "\n",
    "Implement function triangleArea (a,b,c) that takes as input the lengths of the 3sides of a triangle and returns the area of the triangle. By Heron's formula, the areaof a triangle with side lengths a, b, and c is s(s - a)(s - b)(s - c) , wheres = (a + b + c) /2"
   ]
  },
  {
   "cell_type": "code",
   "execution_count": 5,
   "id": "efc66816-57ea-4521-b643-7f5ce4693c3a",
   "metadata": {},
   "outputs": [
    {
     "name": "stdout",
     "output_type": "stream",
     "text": [
      "1.7320508075688772\n"
     ]
    }
   ],
   "source": [
    "import math\n",
    "def triangeArea(a, b,c):\n",
    "    s = ((a+b+c)/2)\n",
    "    area = math.sqrt(s*(s-a)*(s-b)*(s-c))\n",
    "    return area\n",
    "print(triangeArea(2,2,2))"
   ]
  },
  {
   "cell_type": "markdown",
   "id": "16025703-6aef-45a6-8f74-dec9ab2b94ec",
   "metadata": {},
   "source": [
    "Question 4\n",
    "\n",
    "Write a program in python to separate odd and even integers in separate arrays. Goto the editorTest Data :Input the number of elements to be stored in the array :5\n",
    "Input 5 elements in the array :\n",
    "element - 0 : 25\n",
    "element - 1 : 47\n",
    "element - 2 : 42\n",
    "element - 3 : 56\n",
    "element - 4 : 32\n",
    "Expected Output:\n",
    "The Even elements are:42 56 32\n",
    "The Odd elements are :25 47"
   ]
  },
  {
   "cell_type": "code",
   "execution_count": 7,
   "id": "09f46432-ad18-4cde-84a9-05edabd9de30",
   "metadata": {},
   "outputs": [
    {
     "name": "stdout",
     "output_type": "stream",
     "text": [
      "[42, 56, 32]\n",
      "[25, 47]\n"
     ]
    }
   ],
   "source": [
    "even_num = []\n",
    "odd_num = []\n",
    "given_string = [25,47,42,56,32]\n",
    "for x in given_string:\n",
    "    if(x%2==0):\n",
    "        even_num.append(x)\n",
    "    else:\n",
    "        odd_num.append(x)\n",
    "\n",
    "print(even_num)\n",
    "print(odd_num)"
   ]
  },
  {
   "cell_type": "markdown",
   "id": "5ba8d7c3-14b1-46ab-9758-518290db6e49",
   "metadata": {},
   "source": [
    "Question 5\n",
    "\n",
    "a. Write a function inside(x,y,x1,y1,x2,y2) that returns True or Falsedepending on whether the point (x,y) lies in the rectangle with lower leftcorner (x1,y1) and upper right corner (x2,y2).\n",
    "\n",
    "b. Use function inside() from part a. to write an expression that tests whetherthe point (1,1) lies in both of the following rectangles: one with lower leftcorner (0.3, 0.5) and upper right corner (1.1, 0.7) and the other with lowerleft corner (0.5, 0.2) and upper right corner (1.1, 2)."
   ]
  },
  {
   "cell_type": "code",
   "execution_count": 10,
   "id": "3b96e6f7-b20a-41c3-9e9e-80e4e1a4a54d",
   "metadata": {},
   "outputs": [
    {
     "name": "stdout",
     "output_type": "stream",
     "text": [
      "True\n",
      "False\n"
     ]
    }
   ],
   "source": [
    "def inside(x,y,x1,y1,x2,y2):\n",
    "    if (x > x1 and x < x2 and\n",
    "        y > y1 and y < y2) :\n",
    "        return True\n",
    "    else :\n",
    "        return False\n",
    "print(inside(1,1,0,0,2,3))\n",
    "print(inside(-1,-1,0,0,2,3))"
   ]
  },
  {
   "cell_type": "code",
   "execution_count": 9,
   "id": "9411a522-c41e-47d0-b7aa-bdf6a66333e1",
   "metadata": {},
   "outputs": [
    {
     "name": "stdout",
     "output_type": "stream",
     "text": [
      "False\n",
      "True\n"
     ]
    }
   ],
   "source": [
    "def inside(x,y,x1,y1,x2,y2):\n",
    "    if (x > x1 and x < x2 and\n",
    "        y > y1 and y < y2) :\n",
    "        return True\n",
    "    else :\n",
    "        return False\n",
    "print(inside(1,1,0.3,0.5,1.1,0.7))\n",
    "print(inside(1,1,0.5,0.2,1.1,2.0))"
   ]
  },
  {
   "cell_type": "markdown",
   "id": "e798d18a-b8b7-4412-b391-5d9c383b0481",
   "metadata": {},
   "source": [
    "Question 6\n",
    "\n",
    "You can turn a word into pig-Latin using the following two rules (simplified):\n",
    "• If the word starts with a consonant, move that letter to the end and append'ay'. For example, 'happy' becomes 'appyhay' and 'pencil' becomes 'encilpay'.\n",
    "• If the word starts with a vowel, simply append 'way' to the end of the word.For example, 'enter' becomes 'enterway' and 'other' becomes 'otherway' . Forour purposes, there are 5 vowels: a, e, i, o, u (so we count y as a consonant).\n",
    "Write a function pig() that takes a word (i.e., a string) as input and returns its pig-Latin form. Your function should still work if the input word contains upper casecharacters. Your output should always be lower case however."
   ]
  },
  {
   "cell_type": "code",
   "execution_count": 20,
   "id": "1896687b-ad5e-4909-82bb-b9f24579808c",
   "metadata": {
    "scrolled": true
   },
   "outputs": [
    {
     "name": "stdout",
     "output_type": "stream",
     "text": [
      "Enter a string\n"
     ]
    },
    {
     "name": "stdin",
     "output_type": "stream",
     "text": [
      " happy\n"
     ]
    },
    {
     "name": "stdout",
     "output_type": "stream",
     "text": [
      "appyhay\n",
      "\n",
      "Enter a string\n"
     ]
    },
    {
     "name": "stdin",
     "output_type": "stream",
     "text": [
      " enter\n"
     ]
    },
    {
     "name": "stdout",
     "output_type": "stream",
     "text": [
      "enterway\n"
     ]
    }
   ],
   "source": [
    "def pig(get_input):\n",
    "    string = get_input\n",
    "    arr_char = []\n",
    "    for x in string:\n",
    "            arr_char.append(x)\n",
    "    concat_string = \"\"\n",
    "    x = arr_char[0]\n",
    "\n",
    "             \n",
    "    if(x=='a' or x=='e' or x=='i' or x=='o' or x=='u'):\n",
    "            arr_char.append('way')\n",
    "    else:\n",
    "            arr_char.pop(0)\n",
    "            arr_char.append(x)\n",
    "            arr_char.append('ay') \n",
    "              \n",
    "    for x in arr_char:\n",
    "            concat_string +=x\n",
    "\n",
    "    return concat_string\n",
    "\n",
    "print(\"Enter a string\")\n",
    "get_value_from_user = input()\n",
    "print(pig(get_value_from_user))\n",
    "print(\"\\nEnter a string\")\n",
    "get_value_from_user = input()\n",
    "print(pig(get_value_from_user))"
   ]
  },
  {
   "cell_type": "markdown",
   "id": "888423ab-c41e-4958-8a17-e7cd2a442ef0",
   "metadata": {},
   "source": [
    "Question 7\n",
    "\n",
    "File bloodtype1.txt records blood-types of patients (A, B, AB, O or OO) at a clinic.Write a function bldcount() that reads the file with name name and reports (i.e.,prints) how many patients there are in each bloodtype."
   ]
  },
  {
   "cell_type": "code",
   "execution_count": 6,
   "id": "889fdf7b-bd14-4562-8d32-fb9e38495133",
   "metadata": {},
   "outputs": [
    {
     "name": "stdout",
     "output_type": "stream",
     "text": [
      "There are 15 patients with blood group A\n",
      "There are 1 patients with blood group B\n",
      "There are 13 patients with blood group AB\n",
      "There are 15 patients with blood group O\n",
      "There are 0 patients with blood group OO\n"
     ]
    }
   ],
   "source": [
    "#f = open(\"bloodtype1.txt\", \"r\")\n",
    "#get_data = f.read()\n",
    "#just to show the program works\n",
    "get_data = \"AB AB B O A A AB O AB A O O A A A O O O AB O A A A A A AB AB A AB O AB O A O O O AB O AB AB AB A A O\"\n",
    "get_count = 0\n",
    "covert_array = get_data.split()\n",
    "base_data = ['A','B','AB','O','OO']\n",
    "for x in base_data:\n",
    "    get_count = covert_array.count(x)\n",
    "    print(\"There are {0} patients with blood group {1}\".format(get_count,x))"
   ]
  },
  {
   "cell_type": "markdown",
   "id": "df22cdd8-e7f7-4549-bae6-b459a3f83d6f",
   "metadata": {},
   "source": [
    "Question 8\n",
    "\n",
    "Write a function curconv() that takes as input:\n",
    "1. a currency represented using a string (e.g., 'JPY' for the Japanese Yen or'EUR' for the Euro)\n",
    "2. an amount\n",
    "and then converts and returns the amount in US dollars.\n",
    "\n",
    "The currency rates you will need are stored in file currencies.txt:\n",
    "AUD 1.0345157 Australian Dollar\n",
    "CHF 1.0237414 Swiss Franc\n",
    "CNY 0.1550176 Chinese Yuan\n",
    "DKK 0.1651442 Danish Krone\n",
    "EUR 1.2296544 Euro\n",
    "GBP 1.5550989 British Pound\n",
    "HKD 0.1270207 Hong Kong Dollar\n",
    "INR 0.0177643 Indian Rupee\n",
    "JPY 0.01241401 Japanese Yen\n",
    "MXN 0.0751848 Mexican Peso\n",
    "MYR 0.3145411 Malaysian Ringgit\n",
    "NOK 0.1677063 Norwegian Krone\n",
    "NZD 0.8003591 New Zealand Dollar\n",
    "PHP 0.0233234 Philippine Peso\n",
    "SEK 0.148269 Swedish Krona\n",
    "SGD 0.788871 Singapore Dollar\n",
    "THB 0.0313789 Thai Baht"
   ]
  },
  {
   "cell_type": "code",
   "execution_count": 3,
   "id": "d3ae412c-f92c-48ab-bb52-10a7bd209ce3",
   "metadata": {},
   "outputs": [
    {
     "name": "stdout",
     "output_type": "stream",
     "text": [
      "Enter Currency\n"
     ]
    },
    {
     "name": "stdin",
     "output_type": "stream",
     "text": [
      " EUR\n"
     ]
    },
    {
     "name": "stdout",
     "output_type": "stream",
     "text": [
      "Enter Value\n"
     ]
    },
    {
     "name": "stdin",
     "output_type": "stream",
     "text": [
      " 100\n"
     ]
    },
    {
     "name": "stdout",
     "output_type": "stream",
     "text": [
      "122.96544\n"
     ]
    }
   ],
   "source": [
    "def curcov(curr_input,val_input):\n",
    "    #f = open(\"currencies.txt\", \"r\") \n",
    "    #get_data = f.read()\n",
    "    #just to show the program works\n",
    "    split_data = ['AUD', '1.0345157', 'Australian', 'Dollar', 'CHF', '1.0237414', 'Swiss', 'Franc', 'CNY', '0.1550176', 'Chinese', 'Yuan', 'DKK', '0.1651442', 'Danish', 'Krone', 'EUR', '1.2296544', 'Euro', 'GBP', '1.5550989', 'British', 'Pound', 'HKD', '0.1270207', 'Hong', 'Kong', 'Dollar', 'INR', '0.0177643', 'Indian', 'Rupee', 'JPY', '0.01241401', 'Japanese', 'Yen', 'MXN', '0.0751848', 'Mexican', 'Peso', 'MYR', '0.3145411', 'Malaysian', 'Ringgit', 'NOK', '0.1677063', 'Norwegian', 'Krone', 'NZD', '0.8003591', 'New', 'Zealand', 'Dollar', 'PHP', '0.0233234', 'Philippine', 'Peso', 'SEK', '0.148269', 'Swedish', 'Krona', 'SGD', '0.788871', 'Singapore', 'Dollar', 'THB', '0.0313789', 'Thai', 'Baht']\n",
    "    #split_data = get_data.split()\n",
    "    get_index = split_data.index(curr_input)\n",
    "    conv_value = split_data[get_index+1]\n",
    "    calculate = float(conv_value) * float(val_input)\n",
    "    print(calculate)\n",
    "\n",
    "print(\"Enter Currency\")\n",
    "curr_input = input()\n",
    "print(\"Enter Value\")\n",
    "val_input = input()\n",
    "curcov(curr_input,val_input)"
   ]
  },
  {
   "cell_type": "markdown",
   "id": "e31df549-cc64-42bb-a2e9-ed3b816d2b2c",
   "metadata": {},
   "source": [
    "Question 9\n",
    "\n",
    "Each of the following will cause an exception (an error). Identify what type of exception each will cause."
   ]
  },
  {
   "cell_type": "markdown",
   "id": "48629766-a3e1-474a-aea6-bcf9968b0b63",
   "metadata": {},
   "source": [
    "Trying to add incompatible variables, as in \n",
    "adding 6 + ‘a’"
   ]
  },
  {
   "cell_type": "markdown",
   "id": "1cb927db-26d2-40ce-b9f4-4f6d709de33d",
   "metadata": {},
   "source": [
    "**unsupported operand type**"
   ]
  },
  {
   "cell_type": "markdown",
   "id": "9b7a6aa4-5c39-4159-9d3d-04991a65b1fc",
   "metadata": {},
   "source": [
    "Referring to the 12th item of a list that has only 10 items"
   ]
  },
  {
   "cell_type": "markdown",
   "id": "d2418683-50b3-40c9-8af7-379d1761d36a",
   "metadata": {},
   "source": [
    "***list index out of range***"
   ]
  },
  {
   "cell_type": "markdown",
   "id": "4d28170b-2831-4b3a-beeb-9ff6e243b5fc",
   "metadata": {},
   "source": [
    "Using a value that is out of range for a function’s input, such as calling math.sqrt( 1.0)"
   ]
  },
  {
   "cell_type": "markdown",
   "id": "32152e17-ab15-4d67-bc83-77041ac4e7e6",
   "metadata": {},
   "source": [
    "***math domain error***"
   ]
  },
  {
   "cell_type": "markdown",
   "id": "f0a89d1c-349c-495a-8638-27caff85cbcc",
   "metadata": {},
   "source": [
    "Using an undeclared variable, such as print(x) when x has not been defined"
   ]
  },
  {
   "cell_type": "markdown",
   "id": "ddaf3701-d6e9-4c7b-ad61-3106a5d524c4",
   "metadata": {},
   "source": [
    "***'x' is not defined***"
   ]
  },
  {
   "cell_type": "markdown",
   "id": "16b84fe5-90b4-4696-aa81-104eec8b4724",
   "metadata": {},
   "source": [
    "Trying to open a file that does not exist, such as mistyping the file name or looking in the wrong directory."
   ]
  },
  {
   "cell_type": "markdown",
   "id": "e611db83-de68-4dbb-b74a-728c0713693d",
   "metadata": {},
   "source": [
    "***No such file or directory***"
   ]
  },
  {
   "cell_type": "markdown",
   "id": "6139aa4a-1c75-4c59-80e5-114e3fb070e8",
   "metadata": {},
   "source": [
    "Question 10\n",
    "\n",
    "Encryption is the process of hiding the meaning of a text by substituting letters in the message with other letters, according to some system. If the process is successful, no one but the intended recipient can understand the encrypted message. Cryptanalysis refers to attempts to undo the encryption, even if some details of the encryption are unknown (for example, if an encrypted message has been intercepted). The first step of cryptanalysis is often to build up a table of letter frequencies in the encrypted text. Assume that the string letters is already defined as 'abcdefghijklmnopqrstuvwxyz'. Write a function called frequencies() that takes a string as its only parameter, and returns a list of integers, showing the number of times each character appears in the text. Your function may ignore any characters that are not in letters."
   ]
  },
  {
   "cell_type": "code",
   "execution_count": 19,
   "id": "e71356fe-d54a-4d21-80c0-379c5cce6ed6",
   "metadata": {},
   "outputs": [
    {
     "name": "stdout",
     "output_type": "stream",
     "text": [
      "1\n",
      "1\n",
      "1\n",
      "3\n",
      "5\n",
      "1\n",
      "1\n",
      "2\n",
      "1\n",
      "0\n",
      "1\n",
      "0\n",
      "1\n",
      "2\n",
      "4\n",
      "0\n",
      "1\n",
      "2\n",
      "0\n",
      "2\n",
      "1\n",
      "0\n",
      "1\n",
      "1\n",
      "0\n",
      "0\n"
     ]
    }
   ],
   "source": [
    "def frequencies(get_string):\n",
    "    char_string = []\n",
    "    string_alphabets = \"abcdefghijklmnopkrstuvwxyz\"\n",
    "\n",
    "    for x in get_string:\n",
    "        char_string.append(x)\n",
    "    \n",
    "    for x in string_alphabets:\n",
    "        print(char_string.count(x))\n",
    "        \n",
    "\n",
    "frequencies('The quick red fox got bored and went home')"
   ]
  }
 ],
 "metadata": {
  "kernelspec": {
   "display_name": "Python 3 (ipykernel)",
   "language": "python",
   "name": "python3"
  },
  "language_info": {
   "codemirror_mode": {
    "name": "ipython",
    "version": 3
   },
   "file_extension": ".py",
   "mimetype": "text/x-python",
   "name": "python",
   "nbconvert_exporter": "python",
   "pygments_lexer": "ipython3",
   "version": "3.11.4"
  }
 },
 "nbformat": 4,
 "nbformat_minor": 5
}
